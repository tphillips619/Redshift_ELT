{
 "cells": [
  {
   "cell_type": "markdown",
   "metadata": {
    "editable": true
   },
   "source": [
    "# Prerequisites\n",
    "\n",
    "### Create User `dwhadmin`\n",
    "Assumes user `dwhadmin` has privileges\n",
    "- AdministratorAccess\n",
    "- AmazonRedshiftFullAccess\n",
    "- AmazonS3ReadOnlyAccess\n",
    "- AmazonSSMFullAcces"
   ]
  },
  {
   "cell_type": "code",
   "execution_count": null,
   "metadata": {
    "editable": true
   },
   "outputs": [],
   "source": [
    "KEY ='YOUR_KEY_HERE'\n",
    "SECRET='YOUR_SECRET_KEY_HERE'"
   ]
  },
  {
   "cell_type": "markdown",
   "metadata": {
    "editable": true
   },
   "source": [
    "### Create Role `dwhRole`"
   ]
  },
  {
   "cell_type": "markdown",
   "metadata": {
    "editable": true
   },
   "source": [
    "Assumes role `dwhRole` has privilege:\n",
    "- AmazonS3ReadOnlyAccess"
   ]
  },
  {
   "cell_type": "markdown",
   "metadata": {
    "editable": true
   },
   "source": [
    "### Copy `dwhRole` ARN\n",
    "Copy the role ARN into `dwh.cfg` \n",
    "\n",
    "(e.g. 'arn:aws:iam::123456789:role/dwhRole')"
   ]
  },
  {
   "cell_type": "markdown",
   "metadata": {
    "editable": true
   },
   "source": [
    "### Copy Cluster Host String"
   ]
  },
  {
   "cell_type": "markdown",
   "metadata": {
    "editable": true
   },
   "source": [
    "Finally, after starting the cluster from the console for the first time, copy the cluster hostname into the HOST field of `dwh.cfg` \n",
    "\n",
    "(e.g. 'dwhcluster.chbeihbcpsxt.us-east-1.redshift.amazonaws.com')"
   ]
  },
  {
   "cell_type": "code",
   "execution_count": null,
   "metadata": {
    "editable": true
   },
   "outputs": [],
   "source": [
    "import configparser\n",
    "import pandas as pd\n",
    "import boto3\n",
    "\n",
    "config = configparser.ConfigParser()\n",
    "config.read('dwh.cfg')\n",
    "\n",
    "s3 = boto3.resource('s3',\n",
    "                    aws_access_key_id=KEY,\n",
    "                    aws_secret_access_key=SECRET\n",
    "                   )\n",
    "\n",
    "redshift = boto3.client('redshift',\n",
    "                        region_name=\"us-east-1\",\n",
    "                        aws_access_key_id=KEY,\n",
    "                        aws_secret_access_key=SECRET\n",
    "                       )"
   ]
  },
  {
   "cell_type": "markdown",
   "metadata": {
    "editable": true
   },
   "source": [
    "# Create Cluster"
   ]
  },
  {
   "cell_type": "code",
   "execution_count": null,
   "metadata": {
    "editable": true
   },
   "outputs": [],
   "source": [
    "try:\n",
    "    response = redshift.create_cluster(        \n",
    "        ClusterType=config['CLUSTER']['CLUSTER_TYPE'],\n",
    "        NodeType=config['CLUSTER']['NODE_TYPE'],\n",
    "        NumberOfNodes=int(config['CLUSTER']['NUM_NODES']),\n",
    "        DBName=config['CLUSTER']['DB_NAME'],\n",
    "        ClusterIdentifier=config['CLUSTER']['CLUSTER_IDENTIFIER'],\n",
    "        MasterUsername=config['CLUSTER']['DB_USER'],\n",
    "        MasterUserPassword=config['CLUSTER']['DB_PASSWORD'],\n",
    "        IamRoles=[config['IAM_ROLE']['ARN']]  \n",
    "    )\n",
    "except Exception as e:\n",
    "    print(e)"
   ]
  },
  {
   "cell_type": "markdown",
   "metadata": {
    "editable": true
   },
   "source": [
    "Wait a few minutes for the cluster to be created"
   ]
  },
  {
   "cell_type": "markdown",
   "metadata": {
    "editable": true
   },
   "source": [
    "# Create Tables"
   ]
  },
  {
   "cell_type": "code",
   "execution_count": null,
   "metadata": {
    "editable": true
   },
   "outputs": [],
   "source": [
    "!python create_tables.py"
   ]
  },
  {
   "cell_type": "markdown",
   "metadata": {
    "editable": true
   },
   "source": [
    "# Run ETL"
   ]
  },
  {
   "cell_type": "code",
   "execution_count": null,
   "metadata": {
    "editable": true
   },
   "outputs": [],
   "source": [
    "!python etl.py"
   ]
  },
  {
   "cell_type": "markdown",
   "metadata": {
    "editable": true
   },
   "source": [
    "# Test Queries"
   ]
  },
  {
   "cell_type": "code",
   "execution_count": null,
   "metadata": {
    "editable": true
   },
   "outputs": [],
   "source": [
    "%load_ext sql"
   ]
  },
  {
   "cell_type": "code",
   "execution_count": null,
   "metadata": {
    "editable": true
   },
   "outputs": [],
   "source": [
    "conn_string=\"postgresql://{}:{}@{}:{}/{}\".format(config['CLUSTER']['DB_USER'], \n",
    "                                                 config['CLUSTER']['DB_PASSWORD'], \n",
    "                                                 config['CLUSTER']['HOST'],\n",
    "                                                 config['CLUSTER']['DB_PORT'],\n",
    "                                                 config['CLUSTER']['DB_NAME'])\n",
    "print(conn_string)"
   ]
  },
  {
   "cell_type": "code",
   "execution_count": null,
   "metadata": {
    "editable": true
   },
   "outputs": [],
   "source": [
    "%sql $conn_string"
   ]
  },
  {
   "cell_type": "code",
   "execution_count": null,
   "metadata": {
    "editable": true
   },
   "outputs": [],
   "source": [
    "%%sql\n",
    "SELECT COUNT(*)\n",
    "FROM artists;"
   ]
  },
  {
   "cell_type": "code",
   "execution_count": null,
   "metadata": {
    "editable": true
   },
   "outputs": [],
   "source": [
    "%%sql\n",
    "SELECT COUNT(*)\n",
    "FROM users;"
   ]
  },
  {
   "cell_type": "code",
   "execution_count": null,
   "metadata": {
    "editable": true
   },
   "outputs": [],
   "source": [
    "%%sql\n",
    "SELECT COUNT(*)\n",
    "FROM songs;"
   ]
  },
  {
   "cell_type": "markdown",
   "metadata": {
    "editable": true
   },
   "source": [
    "# Delete Cluster"
   ]
  },
  {
   "cell_type": "code",
   "execution_count": null,
   "metadata": {
    "editable": true
   },
   "outputs": [],
   "source": [
    "try:\n",
    "    redshift.delete_cluster(\n",
    "        ClusterIdentifier=config['CLUSTER']['CLUSTER_IDENTIFIER'],\n",
    "        SkipFinalClusterSnapshot=True)\n",
    "except Exception as e:\n",
    "    print(e)"
   ]
  },
  {
   "cell_type": "code",
   "execution_count": null,
   "metadata": {
    "editable": true
   },
   "outputs": [],
   "source": []
  }
 ],
 "metadata": {
  "kernelspec": {
   "display_name": "Python 3",
   "language": "python",
   "name": "python3"
  },
  "language_info": {
   "codemirror_mode": {
    "name": "ipython",
    "version": 3
   },
   "file_extension": ".py",
   "mimetype": "text/x-python",
   "name": "python",
   "nbconvert_exporter": "python",
   "pygments_lexer": "ipython3",
   "version": "3.6.3"
  }
 },
 "nbformat": 4,
 "nbformat_minor": 4
}
